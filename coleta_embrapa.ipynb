{
 "cells": [
  {
   "cell_type": "code",
   "execution_count": 1,
   "metadata": {},
   "outputs": [
    {
     "name": "stdout",
     "output_type": "stream",
     "text": [
      "Última modificação: 21-12-2023\n"
     ]
    }
   ],
   "source": [
    "#!pip install lxml\n",
    "\n",
    "import requests\n",
    "from bs4 import BeautifulSoup as bts\n",
    "import pandas as pd\n",
    "import re\n",
    "#import time\n",
    "import datetime\n",
    "import socket\n",
    "\n",
    "TIMEOUT_SEC = 10 # default timeout in seconds\n",
    "socket.setdefaulttimeout(TIMEOUT_SEC)\n",
    "\n",
    "def getAndParseURL(url):\n",
    "    result = requests.get(url,headers={\"User-Agent\":\"Mozilla/5.0\"})\n",
    "    soup = bts(result.text, 'html.parser')\n",
    "    return soup\n",
    "\n",
    "html = getAndParseURL(\"http://vitibrasil.cnpuv.embrapa.br/index.php?opcao=opt_01\")\n",
    "html_footer = html.find_all(\"table\", {\"class\": \"tb_base tb_footer\"})\n",
    "bs_text_tag = html_footer[0].select('td')[0]\n",
    "modification_date_regex = r\"Última modificação: (\\d{2})/(\\d{2})/(\\d{2})\"\n",
    "match = re.search(modification_date_regex, bs_text_tag.get_text())\n",
    "\n",
    "if match:\n",
    "    day, month, year = match.groups()\n",
    "    modified_date = datetime.datetime(year=int(year)+2000, month=int(month), day=int(day))\n",
    "\n",
    "    print(\"Última modificação:\", modified_date.strftime(\"%d-%m-%Y\"))\n",
    "else:\n",
    "    print(\"Não foi possível encontrar a data da 'Última modificação' do site\")"
   ]
  },
  {
   "cell_type": "code",
   "execution_count": 6,
   "metadata": {},
   "outputs": [
    {
     "data": {
      "text/plain": [
       "datetime.date(2023, 12, 21)"
      ]
     },
     "execution_count": 6,
     "metadata": {},
     "output_type": "execute_result"
    }
   ],
   "source": [
    "modified_date.date()"
   ]
  },
  {
   "cell_type": "code",
   "execution_count": 7,
   "metadata": {},
   "outputs": [
    {
     "name": "stdout",
     "output_type": "stream",
     "text": [
      "A base já está atualizada, utilize o CSV\n"
     ]
    }
   ],
   "source": [
    "ultima_data_coletada = datetime.date(2023,12,21)\n",
    "\n",
    "if modified_date.date() > ultima_data_coletada:\n",
    "    print('Deve ser coletado o dado novamente')\n",
    "else:\n",
    "    print('A base já está atualizada, utilize o CSV')"
   ]
  },
  {
   "cell_type": "code",
   "execution_count": 1,
   "metadata": {},
   "outputs": [],
   "source": [
    "import requests\n",
    "from bs4 import BeautifulSoup as bts\n",
    "import pandas as pd\n",
    "import re\n",
    "import datetime\n",
    "\n",
    "class Vitivinicultura():\n",
    "    def __init__(self):\n",
    "        self.url_date = 'http://vitibrasil.cnpuv.embrapa.br/index.php?opcao=opt_01'\n",
    "        self.base_url = 'http://vitibrasil.cnpuv.embrapa.br/download/'\n",
    "        self.path_files = 'data_vitivinicultura/csv/'\n",
    "\n",
    "        self.files = {'file_dot_comma': ['Producao.csv',\n",
    "                                        'ProcessaViniferas.csv',\n",
    "                                        'Comercio.csv',\n",
    "                                        'ImpVinhos.csv',\n",
    "                                        'ImpEspumantes.csv',\n",
    "                                        'ImpFrescas.csv',\n",
    "                                        'ImpPassas.csv',\n",
    "                                        'ImpSuco.csv',\n",
    "                                        'ExpVinho.csv',\n",
    "                                        'ExpEspumantes.csv',\n",
    "                                        'ExpUva.csv',\n",
    "                                        'ExpSuco.csv'],\n",
    "                                        'file_t': ['ProcessaAmericanas.csv',\n",
    "                                        'ProcessaMesa.csv'] }\n",
    "\n",
    "        self.file_sep = {\n",
    "                        'file_dot_comma': ';',\n",
    "                        'file_t': '\\t'\n",
    "                    }\n",
    "\n",
    "        self.dataframes = []\n",
    "\n",
    "    def getAndParseURL(self, url):\n",
    "        result = requests.get(url,headers={\"User-Agent\":\"Mozilla/5.0\"})\n",
    "        soup = bts(result.text, 'html.parser')\n",
    "        return soup\n",
    "    \n",
    "    def get_last_updated_date(self,):\n",
    "\n",
    "        html = self.getAndParseURL(self.url_date)\n",
    "        html_footer = html.find_all(\"table\", {\"class\": \"tb_base tb_footer\"})\n",
    "        bs_text_tag = html_footer[0].select('td')[0]\n",
    "        modification_date_regex = r\"Última modificação: (\\d{2})/(\\d{2})/(\\d{2})\"\n",
    "        match = re.search(modification_date_regex, bs_text_tag.get_text())\n",
    "\n",
    "        if match:\n",
    "            day, month, year = match.groups()\n",
    "            modified_date = datetime.datetime(year=int(year)+2000, month=int(month), day=int(day))\n",
    "\n",
    "            print(\"Última modificação:\", modified_date.strftime(\"%d-%m-%Y\"))\n",
    "            return modified_date.date()\n",
    "        else:\n",
    "            print(\"Não foi possível encontrar a data da 'Última modificação' do site\")\n",
    "            return datetime.date(2023,12,21)\n",
    "\n",
    "    def load_data(self, path):\n",
    "        for file_type, filenames in self.files.items():\n",
    "            for filename in filenames:\n",
    "                try:\n",
    "                    df = pd.read_csv(path + filename, sep=self.file_sep[file_type])\n",
    "                    self.dataframes.append(df)\n",
    "                except Exception as e:\n",
    "                    df = pd.DataFrame()  \n",
    "                    self.dataframes.append(df)\n",
    "                    print(f\"Error reading {filename}: {e}\")\n",
    "        return self.dataframes\n",
    "    \n",
    "    def get_df_dict(self,modified_date, ultima_data_coletada):\n",
    "        if modified_date > ultima_data_coletada:\n",
    "            print('Coletando dados via scraping...')\n",
    "            dataframes = self.load_data(self.base_url)\n",
    "        else:\n",
    "            print('Lendo dados do localmente...')\n",
    "            dataframes = self.load_data(self.path_files)\n",
    "        self.df_dict = {\n",
    "            'Producao': dataframes[0],\n",
    "            'ProcessaViniferas': dataframes[1],\n",
    "            'ProcessaAmericanas': dataframes[2],\n",
    "            'ProcessaMesa': dataframes[3],\n",
    "            'Comercio': dataframes[4],\n",
    "            'ImpVinhos': dataframes[5],\n",
    "            'ImpEspumantes': dataframes[6],\n",
    "            'ImpFrescas': dataframes[7],\n",
    "            'ImpPassas': dataframes[8],\n",
    "            'ImpSuco': dataframes[9],\n",
    "            'ExpVinho': dataframes[10],\n",
    "            'ExpEspumantes': dataframes[11],\n",
    "            'ExpUva': dataframes[12],\n",
    "            'ExpSuco': dataframes[13]\n",
    "        }\n",
    "        #return self.df_dict   \n",
    "    \n",
    "    def get_tabela_especifica(self,df_key: str):\n",
    "        \"\"\"\n",
    "        Function to retrieve data based on the key\n",
    "        \"\"\"\n",
    "        if df_key not in self.df_dict:\n",
    "            print(f\"Error: Dataframe '{df_key}' not found\")\n",
    "            return None\n",
    "        else:\n",
    "            return self.df_dict[df_key]"
   ]
  },
  {
   "cell_type": "code",
   "execution_count": 2,
   "metadata": {},
   "outputs": [],
   "source": [
    "vt = Vitivinicultura()\n",
    "\n",
    "modified_date = vt.get_last_updated_date()\n",
    "ultima_data_coletada = datetime.date(2023,12,21)\n",
    "\n",
    "vt.get_df_dict(modified_date, ultima_data_coletada)"
   ]
  },
  {
   "cell_type": "code",
   "execution_count": 19,
   "metadata": {},
   "outputs": [
    {
     "name": "stdout",
     "output_type": "stream",
     "text": [
      "não tem no dict\n"
     ]
    }
   ],
   "source": [
    "df_dict = vt.df_dict\n",
    "df_key = 'Producaozona'\n",
    "if df_key not in df_dict:\n",
    "    print('não tem no dict')\n",
    "else: \n",
    "    print('tem no dict')"
   ]
  },
  {
   "cell_type": "code",
   "execution_count": null,
   "metadata": {},
   "outputs": [],
   "source": [
    "df_producao = vt.get_tabela_especifica('Producao')\n",
    "df_producao.to_dict(orient='records')"
   ]
  },
  {
   "cell_type": "code",
   "execution_count": 15,
   "metadata": {},
   "outputs": [
    {
     "data": {
      "text/plain": [
       "[{'produto': 'VINHO DE MESA', '1970': 217208604},\n",
       " {'produto': 'Tinto', '1970': 174224052},\n",
       " {'produto': 'Branco', '1970': 748400},\n",
       " {'produto': 'Rosado', '1970': 42236152},\n",
       " {'produto': 'VINHO FINO DE MESA (VINIFERA)', '1970': 23899346},\n",
       " {'produto': 'Tinto', '1970': 7591557},\n",
       " {'produto': 'Branco', '1970': 15562889},\n",
       " {'produto': 'Rosado', '1970': 744900},\n",
       " {'produto': 'SUCO', '1970': 1097771},\n",
       " {'produto': 'Suco de uva integral', '1970': 1097771},\n",
       " {'produto': 'Suco de uva concentrado', '1970': 0},\n",
       " {'produto': 'Suco de uva adoçado', '1970': 0},\n",
       " {'produto': 'Suco de uva orgânico', '1970': 0},\n",
       " {'produto': 'Suco de uva reconstituído', '1970': 0},\n",
       " {'produto': 'DERIVADOS', '1970': 14164329},\n",
       " {'produto': 'Espumante', '1970': 0},\n",
       " {'produto': 'Espumante moscatel', '1970': 0},\n",
       " {'produto': 'Base espumante', '1970': 0},\n",
       " {'produto': 'Base espumante moscatel', '1970': 0},\n",
       " {'produto': 'Base Champenoise champanha', '1970': 0},\n",
       " {'produto': 'Base Charmat champanha', '1970': 0},\n",
       " {'produto': 'Bebida de uva', '1970': 0},\n",
       " {'produto': 'Polpa de uva', '1970': 0},\n",
       " {'produto': 'Mosto simples', '1970': 7170736},\n",
       " {'produto': 'Mosto concentrado', '1970': 0},\n",
       " {'produto': 'Mosto de uva com bagaço', '1970': 0},\n",
       " {'produto': 'Mosto dessulfitado', '1970': 0},\n",
       " {'produto': 'Mistelas', '1970': 1072100},\n",
       " {'produto': 'Néctar de uva', '1970': 0},\n",
       " {'produto': 'Licorosos', '1970': 282500},\n",
       " {'produto': 'Compostos', '1970': 0},\n",
       " {'produto': 'Jeropiga', '1970': 0},\n",
       " {'produto': 'Filtrado', '1970': 0},\n",
       " {'produto': 'Frisante', '1970': 0},\n",
       " {'produto': 'Vinho leve', '1970': 0},\n",
       " {'produto': 'Vinho licoroso', '1970': 0},\n",
       " {'produto': 'Brandy', '1970': 0},\n",
       " {'produto': 'Destilado', '1970': 830030},\n",
       " {'produto': 'Bagaceira', '1970': 961290},\n",
       " {'produto': 'Licor de bagaceira', '1970': 0},\n",
       " {'produto': 'Vinagre', '1970': 0},\n",
       " {'produto': 'Borra líquida', '1970': 3847673},\n",
       " {'produto': 'Borra seca', '1970': 0},\n",
       " {'produto': 'Vinho Composto', '1970': 0},\n",
       " {'produto': 'Pisco', '1970': 0},\n",
       " {'produto': 'Vinho orgânico', '1970': 0},\n",
       " {'produto': 'Espumante orgânico', '1970': 0},\n",
       " {'produto': 'Destilado alcoólico simples de bagaceira ', '1970': 0},\n",
       " {'produto': 'Vinho acidificado ', '1970': 0},\n",
       " {'produto': 'Mosto parcialmente fermentado ', '1970': 0},\n",
       " {'produto': 'Outros derivados', '1970': 0}]"
      ]
     },
     "execution_count": 15,
     "metadata": {},
     "output_type": "execute_result"
    }
   ],
   "source": [
    "ano_escolhido = '1970'\n",
    "\n",
    "df_producao[['produto', f'{ano_escolhido}']].to_dict(orient='records')"
   ]
  },
  {
   "cell_type": "code",
   "execution_count": null,
   "metadata": {},
   "outputs": [],
   "source": [
    "@app.get(\"/data/{year}\")\n",
    "async def get_data_by_year(year: str = None, df_key: str = 'Producao'):\n",
    "    try:\n",
    "        if df_key not in df_dict:\n",
    "            print(f\"Error: Dataframe '{df_key}' not found\")\n",
    "            response = {}\n",
    "        else:\n",
    "            df = vt.get_tabela_especifica('Producao')\n",
    "            if year:\n",
    "                try:\n",
    "                    response = df[['produto', f'{year}']].to_dict(orient='records')\n",
    "                return response\n",
    "            else:    \n",
    "                return df.to_dict(orient='records')\n",
    "    except Exception as e:\n",
    "        print(f\"Unexpected error: {e}\")\n",
    "        return None  # Return None on unexpected errors\n",
    "    \n",
    "            if year:\n",
    "            try:\n",
    "                response = df_dict[df_key][year]  # Use try-except for potential KeyError\n",
    "            except KeyError:\n",
    "                print(f\"Error: Year '{year}' not found in '{df_key}' data\")\n",
    "                response = []  # Return empty list instead of error\n",
    "        return response"
   ]
  }
 ],
 "metadata": {
  "kernelspec": {
   "display_name": "copo_do_mundo",
   "language": "python",
   "name": "python3"
  },
  "language_info": {
   "codemirror_mode": {
    "name": "ipython",
    "version": 3
   },
   "file_extension": ".py",
   "mimetype": "text/x-python",
   "name": "python",
   "nbconvert_exporter": "python",
   "pygments_lexer": "ipython3",
   "version": "3.9.18"
  }
 },
 "nbformat": 4,
 "nbformat_minor": 2
}
